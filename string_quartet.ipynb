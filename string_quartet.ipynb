{
 "cells": [
  {
   "cell_type": "markdown",
   "metadata": {},
   "source": [
    "# Learning String Quartets"
   ]
  },
  {
   "cell_type": "code",
   "execution_count": 1,
   "metadata": {},
   "outputs": [],
   "source": [
    "import os\n",
    "from util import data\n",
    "from pdb import set_trace\n",
    "from multiprocessing import Pool\n",
    "\n",
    "%load_ext autoreload\n",
    "%autoreload 2\n",
    "\n",
    "default_pool_size = max(1, os.cpu_count() - 2)"
   ]
  },
  {
   "cell_type": "code",
   "execution_count": 2,
   "metadata": {},
   "outputs": [
    {
     "name": "stdout",
     "output_type": "stream",
     "text": [
      "Serialized scores found, loading...\n",
      "Scores loaded in 23.66 seconds.\n"
     ]
    }
   ],
   "source": [
    "# Loading data, which will take a while\n",
    "scores = data.load_data()"
   ]
  },
  {
   "cell_type": "code",
   "execution_count": 7,
   "metadata": {},
   "outputs": [
    {
     "name": "stdout",
     "output_type": "stream",
     "text": [
      "Building dataset...\n",
      "Finished building dataset in 1.90 seconds.\n",
      "There are 99 items in the dataset.\n"
     ]
    }
   ],
   "source": [
    "dataset = data.HaydnDataset(data=scores)\n",
    "print(\"There are {} items in the dataset.\".format(len(dataset)))"
   ]
  },
  {
   "cell_type": "code",
   "execution_count": 12,
   "metadata": {
    "scrolled": true
   },
   "outputs": [
    {
     "name": "stdout",
     "output_type": "stream",
     "text": [
      "There are 81 final corpi with a total of 1872988 ticks.\n"
     ]
    }
   ],
   "source": [
    "# get all of the datasets and filter out the empty ones\n",
    "states = list(filter(lambda ds: ds is not None, dataset))\n",
    "total_ticks = sum(map(lambda state: state.shape[2], states)) * states[0].shape[0]\n",
    "print(\"There are {} final corpi with a total of {} ticks.\".format(len(states), total_ticks))"
   ]
  },
  {
   "cell_type": "code",
   "execution_count": null,
   "metadata": {},
   "outputs": [],
   "source": []
  }
 ],
 "metadata": {
  "kernelspec": {
   "display_name": "Python 3",
   "language": "python",
   "name": "python3"
  },
  "language_info": {
   "codemirror_mode": {
    "name": "ipython",
    "version": 3
   },
   "file_extension": ".py",
   "mimetype": "text/x-python",
   "name": "python",
   "nbconvert_exporter": "python",
   "pygments_lexer": "ipython3",
   "version": "3.6.6"
  }
 },
 "nbformat": 4,
 "nbformat_minor": 2
}

{
 "cells": [
  {
   "cell_type": "code",
   "execution_count": 2,
   "metadata": {},
   "outputs": [
    {
     "name": "stderr",
     "output_type": "stream",
     "text": [
      "music21: Certain music21 functions might need these optional packages: matplotlib, scipy;\n",
      "                   if you run into errors, install them by following the instructions at\n",
      "                   http://mit.edu/music21/doc/installing/installAdditional.html\n"
     ]
    }
   ],
   "source": [
    "import os\n",
    "from util import data\n",
    "from pdb import set_trace\n",
    "from multiprocessing import pool\n",
    "\n",
    "%load_ext autoreload\n",
    "%autoreload 2\n",
    "\n",
    "default_pool_size = max(1, os.cpu_count()-2)"
   ]
  },
  {
   "cell_type": "code",
   "execution_count": 3,
   "metadata": {},
   "outputs": [
    {
     "name": "stdout",
     "output_type": "stream",
     "text": [
      "Serialized scores found, loading...\n",
      "Scores loaded in 27.68 seconds.\n"
     ]
    }
   ],
   "source": [
    "scores = data.load_data()"
   ]
  },
  {
   "cell_type": "code",
   "execution_count": 4,
   "metadata": {},
   "outputs": [
    {
     "name": "stdout",
     "output_type": "stream",
     "text": [
      "Building dataset...\n",
      "Finished building dataset in 6.98 seconds.\n"
     ]
    }
   ],
   "source": [
    "dataset = data.HaydnDataset(data=scores)"
   ]
  },
  {
   "cell_type": "code",
   "execution_count": 5,
   "metadata": {},
   "outputs": [
    {
     "name": "stdout",
     "output_type": "stream",
     "text": [
      "There are 81 final corpi with a total of 144076 ticks.\n"
     ]
    }
   ],
   "source": [
    "states = list(filter(lambda ds: ds.shape[1] != 0, dataset))\n",
    "total_ticks = sum(map(lambda state: state.shape[1], states))\n",
    "print(\"There are {} final corpi with a total of {} ticks.\".format(len(states), total_ticks))"
   ]
  },
  {
   "cell_type": "code",
   "execution_count": null,
   "metadata": {},
   "outputs": [],
   "source": []
  },
  {
   "cell_type": "code",
   "execution_count": 76,
   "metadata": {},
   "outputs": [],
   "source": [
    "from __future__ import print_function\n",
    "import torch\n",
    "import torch.nn as nn\n",
    "import torch.optim as optim\n",
    "import torch.nn.functional as F  # useful stateless functions\n",
    "import numpy as np\n",
    "from torch.utils import data"
   ]
  },
  {
   "cell_type": "code",
   "execution_count": 77,
   "metadata": {},
   "outputs": [],
   "source": [
    "class Center_Model(nn.Module):\n",
    "    def __init__(self, center_input_size, center_output_size):\n",
    "        super(Center_Model, self).__init__()\n",
    "        \n",
    "        self.center_affine = nn.Linear(center_input_size, center_output_size)\n",
    "        self.relu = nn.ReLU()\n",
    "        self.softmax = nn.Softmax()\n",
    "        \n",
    "    def forward(self, center_input):\n",
    "        \n",
    "        center_out = self.center_affine(center_input)\n",
    "        output = self.relu(center_out)\n",
    "        output = self.softmax(output)\n",
    "        \n",
    "        return output\n",
    "  "
   ]
  },
  {
   "cell_type": "code",
   "execution_count": 78,
   "metadata": {},
   "outputs": [],
   "source": [
    "class Result_Model(nn.Module):\n",
    "    def __init__(self, merged_input_size, output_size):\n",
    "        super(Result_Model, self).__init__()\n",
    "        \n",
    "        self.affine = nn.Linear(merged_input_size, output_size)\n",
    "        self.relu = nn.ReLU()\n",
    "        self.softmax = nn.Softmax()\n",
    "        \n",
    "    def forward(self, merged_input):\n",
    "        \n",
    "        out = self.affine(merged_input)\n",
    "        output = self.relu(out)\n",
    "        output = self.softmax(output)\n",
    "        \n",
    "        return output"
   ]
  },
  {
   "cell_type": "code",
   "execution_count": 79,
   "metadata": {},
   "outputs": [],
   "source": [
    "class Left_Model(nn.Module):\n",
    "    def __init__(self, lstm_input_size, lstm_hidden_size, output_size):\n",
    "        super(Left_Model, self).__init__()\n",
    "        \n",
    "        self.left_lstm = nn.LSTM(lstm_input_size, lstm_hidden_size)\n",
    "        self.affine = nn.Linear(lstm_hidden_size, output_size)\n",
    "        self.relu = nn.ReLU()\n",
    "        self.softmax = nn.Softmax()\n",
    "        \n",
    "    def forward(self, left_seq):\n",
    "        '''\n",
    "        input_size = 66*3\n",
    "        LSTM input shape: [sqd_len, batch=1, input_size]\n",
    "        1 = num_layers * num_directions\n",
    "        LSTM hn output shape: [1, batch, hidden_size]\n",
    "        '''\n",
    "        \n",
    "        left_out, (left_hn, left_cn) = self.left_lstm(left_seq)\n",
    "        out = self.affine(left_hn)\n",
    "        output = self.relu(out)\n",
    "        output = self.softmax(output)\n",
    "        \n",
    "        return output"
   ]
  },
  {
   "cell_type": "code",
   "execution_count": 80,
   "metadata": {},
   "outputs": [],
   "source": [
    "class Right_Model(nn.Module):\n",
    "    def __init__(self, lstm_input_size, lstm_hidden_size, output_size):\n",
    "        super(Right_Model, self).__init__()\n",
    "        \n",
    "        self.right_lstm = nn.LSTM(lstm_input_size, lstm_hidden_size)\n",
    "        self.affine = nn.Linear(lstm_hidden_size, output_size)\n",
    "        self.relu = nn.ReLU()\n",
    "        self.softmax = nn.Softmax()\n",
    "        \n",
    "    def forward(self, right_seq):\n",
    "        '''\n",
    "        input_size = 66*3\n",
    "        LSTM input shape: [sqd_len, batch=1, input_size]\n",
    "        1 = num_layers * num_directions\n",
    "        LSTM hn output shape: [1, batch, hidden_size]\n",
    "        '''\n",
    "        right_out, (right_hn, right_cn) = self.right_lstm(right_seq)\n",
    "        out = self.affine(right_hn)\n",
    "        output = self.relu(out)\n",
    "        output = self.softmax(output)\n",
    "        \n",
    "        return output"
   ]
  },
  {
   "cell_type": "code",
   "execution_count": null,
   "metadata": {},
   "outputs": [],
   "source": []
  },
  {
   "cell_type": "code",
   "execution_count": 81,
   "metadata": {},
   "outputs": [],
   "source": [
    "def train(left_model, right_model, center_model, result_model, \n",
    "          left_tensor, right_tensor, center_tensor, \n",
    "          left_target_tensor, right_targte_tensor, center_target_tensor, \n",
    "          opt_left, opt_right, opt_center, opt_affine):        \n",
    "    \n",
    "    left_output = left_model(left_tensor,)\n",
    "    right_output = right_model(right_tensor)\n",
    "    center_output = center_model(center_tensor)\n",
    "    \n",
    "    \n",
    "    left_output = left_output.view(1, -1)\n",
    "    right_output = right_output.view(1, -1)\n",
    "    print('left_output shape: {x}'.format(x=left_output.shape))\n",
    "    print('center_output shape: {x}'.format(x=center_output.shape))\n",
    "    print('right_output shape: {x}'.format(x=right_output.shape))\n",
    "    comobined_result = torch.cat((left_output, center_output, right_output), 1)\n",
    "    \n",
    "    \n",
    "    result_output = result_model(comobined_result)\n",
    "    \n",
    "    '''\n",
    "    TODO: Remove the linear layer in the Left and Right model. Then we can pass in the correct left right targets\n",
    "    to calculate loss!\n",
    "    \n",
    "    After Left and Right LSTM model is modified, change left and right model to use the correct target.\n",
    "    \n",
    "    '''\n",
    "    print('left_output shape: {x}'.format(x=left_output.shape))\n",
    "    print('center_target_tensor shape: {x}'.format(x=center_target_tensor.shape))\n",
    "    \n",
    "    left_loss = F.nll_loss(left_output, center_target_tensor)\n",
    "    opt_left.zero_grad()\n",
    "    left_loss.backward()\n",
    "    opt_left.step()\n",
    "    \n",
    "    right_loss = F.nll_loss(right_output, center_target_tensor)\n",
    "    opt_right.zero_grad()\n",
    "    right_loss.backward()\n",
    "    opt_right.step()\n",
    "    \n",
    "    center_loss = F.nll_loss(center_output, center_target_tensor)\n",
    "    opt_center.zero_grad()\n",
    "    center_loss.backward()\n",
    "    opt_center.step()\n",
    "    \n",
    "    result_loss = F.nll_loss(result_output, center_target_tensor)\n",
    "    opt_affine.zero_grad()\n",
    "    result_loss.backward()\n",
    "    opt_affine.step()\n",
    "        \n",
    "    return result_output, left_loss.item(), right_loss.item(), center_loss.item(), result_loss.item()"
   ]
  },
  {
   "cell_type": "code",
   "execution_count": 82,
   "metadata": {},
   "outputs": [],
   "source": [
    "def findNoneZeroIndex(m):\n",
    "    '''\n",
    "    m is 2 dimentional numpy array\n",
    "    '''\n",
    "    x, y = m.shape\n",
    "#     print('m shape: {x}'.format(x=m.shape))\n",
    "    n = np.zeros((1, x))\n",
    "    for i in range (x):\n",
    "        m_row = m[i, :]\n",
    "        m_row_clipped = np.delete(m_row, -1)\n",
    "        \n",
    "        print('m_row_clipped shape: {x}'.format(x=m_row_clipped.shape))\n",
    "        print(m_row_clipped)\n",
    "        index = np.nonzero(m_row_clipped)[0]\n",
    "        print('idx: {x}'.format(x=index))\n",
    "        n[:, i] = index\n",
    "    return n"
   ]
  },
  {
   "cell_type": "code",
   "execution_count": 83,
   "metadata": {},
   "outputs": [],
   "source": [
    "def getTargetIndexTensor(left, right, c_target_tensor):\n",
    "    target_tensor = torch.from_numpy(c_target_tensor.reshape(1, -1)).float()\n",
    "    '''\n",
    "    TODO: change to use delete -1. \n",
    "    Another note: this is ok actually. this way the result keeps the correct shape.\n",
    "    '''\n",
    "    center_target_tensor = target_tensor[:, 0:data_dim]\n",
    "    center_target_index_tensor = (center_target_tensor.flatten()==1).nonzero()\n",
    "    \n",
    "    left_target = findNoneZeroIndex(left)\n",
    "    right_target = findNoneZeroIndex(right)\n",
    "    right_index_target = np.flip(right_target, axis=1)\n",
    "    \n",
    "    left_index_target_tensor = torch.from_numpy(left_target).float()\n",
    "    right_index_target_tensor = torch.from_numpy(right_index_target.copy()).float()\n",
    "    \n",
    "    return (left_index_target_tensor, right_index_target_tensor, center_target_index_tensor)"
   ]
  },
  {
   "cell_type": "code",
   "execution_count": 84,
   "metadata": {},
   "outputs": [],
   "source": [
    "def generateMiniBatchFromOneMusicForPart(music_data, seq_length, part):\n",
    "    '''    \n",
    "    input: music_data. A numpy array with shape [4, tick, 66]\n",
    "    return: a list contains miniBatch data for one part. Each item in the miniBatch list contains:\n",
    "            - left_tensor: shape [seq_length, 1, D]\n",
    "            - right_tensor: shape [seq_length, 1, D]\n",
    "            - center_tensor: shape [1, D]\n",
    "            - left_target_tensor: shape [1, seq_length ]\n",
    "            - right_targte_tensor: shape [1, seq_length ]\n",
    "            - center_target_tensor: shape [1, 1]\n",
    "\n",
    "        D = size of array contains the data from three other parts\n",
    "                \n",
    "    '''\n",
    "    miniBatches = []\n",
    "    \n",
    "    music_length = music_data.shape[1]\n",
    "    i = seq_length # TODO: maybe add functinality to pad the beginning and end.\n",
    "    \n",
    "    while (i + seq_length) < music_length:\n",
    "        left_range_start = i-seq_length\n",
    "        left_range_end = i\n",
    "        center_index = i\n",
    "        right_range_start = i + 1\n",
    "        right_range_end = right_range_start + seq_length\n",
    "        \n",
    "        left_range = music_data[:, left_range_start:left_range_end, :]\n",
    "        left_result = np.delete(left_range, part, axis=0)\n",
    "        left_result = np.swapaxes(left_result, 0, 1)\n",
    "        seq_l, part_l, notes_l = left_result.shape\n",
    "        left_tensor = torch.from_numpy(left_result.reshape(seq_l, 1, part_l*notes_l)).float()\n",
    "        \n",
    "        right_range = music_data[:, right_range_start:right_range_end, :]\n",
    "        right_result = np.delete(right_range, part, axis=0)     \n",
    "        right_result = np.swapaxes(right_result, 0, 1)\n",
    "        seq_r, part_r, notes_r = right_result.shape \n",
    "        right = right_result.reshape(seq_r, 1, part_r*notes_r)\n",
    "#         print(right)\n",
    "        right = np.flip(right, axis=2).copy()\n",
    "        right_tensor = torch.from_numpy(right).float()\n",
    "        \n",
    "        center_result = music_data[:, i, :]\n",
    "        center_result = np.delete(center_result, part, axis=0)\n",
    "        part_c, notes_c = center_result.shape\n",
    "        center_tensor = torch.from_numpy(center_result.reshape(1, part_c * notes_c)).float()\n",
    "        \n",
    "        center_target_range = music_data[part, i+1, :]\n",
    "        '''\n",
    "        left range and right range are in dimension [seg_length, 66]\n",
    "        '''\n",
    "        left_target_tensor_range = music_data[part, left_range_start+1:left_range_end+1, :]\n",
    "        right_target_tensor_range = music_data[part, right_range_start-1:right_range_end-1, :]\n",
    "        \n",
    "        left_index_target_tensor, right_index_target_tensor, center_index_target_tensor = getTargetIndexTensor(\n",
    "            left_target_tensor_range, right_target_tensor_range, center_target_range)\n",
    "        \n",
    "        miniBatches.append((left_tensor, right_tensor, center_tensor, left_index_target_tensor, right_index_target_tensor, center_index_target_tensor))\n",
    "        \n",
    "        i += 1\n",
    "        \n",
    "    return miniBatches\n",
    "    "
   ]
  },
  {
   "cell_type": "code",
   "execution_count": 85,
   "metadata": {},
   "outputs": [
    {
     "data": {
      "text/plain": [
       "'\\nmini generateMiniBatchFromOneMusicForPart test\\n'"
      ]
     },
     "execution_count": 85,
     "metadata": {},
     "output_type": "execute_result"
    }
   ],
   "source": [
    "'''\n",
    "mini generateMiniBatchFromOneMusicForPart test\n",
    "'''\n",
    "# fake_data = np.array([[\n",
    "#         [1, 0, 0],\n",
    "#         [0, 1, 0],\n",
    "#         [0, 1, 0],\n",
    "#         [1, 0, 0],\n",
    "#         [0, 0, 1],\n",
    "#         [0, 1, 0],\n",
    "#         [0, 0, 1]],\n",
    "\n",
    "#        [[1, 0, 0],\n",
    "#         [1, 0, 0],\n",
    "#         [0, 1, 0],\n",
    "#         [0, 1, 0],\n",
    "#         [1, 0, 0],\n",
    "#         [0, 0, 1],\n",
    "#         [0, 1, 0]],\n",
    "\n",
    "#        [[1, 0, 0],\n",
    "#         [0, 1, 0],\n",
    "#         [0, 0, 1],\n",
    "#         [0, 1, 0],\n",
    "#         [0, 1, 0],\n",
    "#         [1, 0, 0],\n",
    "#         [1, 0, 0]],\n",
    "\n",
    "#        [[0, 1, 0],\n",
    "#         [0, 0, 1],\n",
    "#         [0, 1, 0],\n",
    "#         [0, 0, 1],\n",
    "#         [1, 0, 0],\n",
    "#         [0, 1, 0],\n",
    "#         [0, 1, 0]]])\n",
    "# # print('fake_data')\n",
    "# # print(fake_data)\n",
    "\n",
    "# r = generateMiniBatchFromOneMusicForPart(fake_data, 3, 0)\n",
    "# lt, rt, ct, lt_t, rt_t, ct_t = r[0]"
   ]
  },
  {
   "cell_type": "code",
   "execution_count": 86,
   "metadata": {},
   "outputs": [],
   "source": [
    "import time\n",
    "import math\n",
    "\n",
    "def timeSince(since):\n",
    "    now = time.time()\n",
    "    s = now - since\n",
    "    m = math.floor(s / 60)\n",
    "    s -= m * 60\n",
    "    return '%dm %ds' % (m, s)"
   ]
  },
  {
   "cell_type": "code",
   "execution_count": 87,
   "metadata": {},
   "outputs": [
    {
     "name": "stdout",
     "output_type": "stream",
     "text": [
      "demo_piece shape: (4, 1541, 66)\n",
      "m_row_clipped shape: (65,)\n",
      "[0. 0. 0. 0. 0. 0. 0. 0. 0. 0. 0. 0. 0. 0. 0. 0. 0. 0. 0. 0. 0. 0. 0. 0.\n",
      " 0. 0. 0. 0. 0. 0. 0. 0. 0. 0. 0. 0. 0. 0. 0. 0. 0. 0. 0. 0. 0. 0. 0. 0.\n",
      " 0. 1. 0. 0. 0. 0. 0. 0. 0. 0. 0. 0. 0. 0. 0. 0. 1.]\n",
      "idx: [49 64]\n"
     ]
    },
    {
     "ename": "ValueError",
     "evalue": "could not broadcast input array from shape (2) into shape (1)",
     "output_type": "error",
     "traceback": [
      "\u001b[0;31m---------------------------------------------------------------------------\u001b[0m",
      "\u001b[0;31mValueError\u001b[0m                                Traceback (most recent call last)",
      "\u001b[0;32m<ipython-input-87-20c6e2e49af8>\u001b[0m in \u001b[0;36m<module>\u001b[0;34m\u001b[0m\n\u001b[1;32m     31\u001b[0m \u001b[0mseq_length\u001b[0m \u001b[0;34m=\u001b[0m \u001b[0;36m8\u001b[0m\u001b[0;34m\u001b[0m\u001b[0m\n\u001b[1;32m     32\u001b[0m \u001b[0;34m\u001b[0m\u001b[0m\n\u001b[0;32m---> 33\u001b[0;31m \u001b[0mdemo_piece_minibatch_pt1\u001b[0m \u001b[0;34m=\u001b[0m \u001b[0mgenerateMiniBatchFromOneMusicForPart\u001b[0m\u001b[0;34m(\u001b[0m\u001b[0mdemo_piece\u001b[0m\u001b[0;34m,\u001b[0m \u001b[0mseq_length\u001b[0m\u001b[0;34m,\u001b[0m \u001b[0;36m0\u001b[0m\u001b[0;34m)\u001b[0m\u001b[0;34m\u001b[0m\u001b[0m\n\u001b[0m\u001b[1;32m     34\u001b[0m \u001b[0mdemo_piece_minibatch_pt2\u001b[0m \u001b[0;34m=\u001b[0m \u001b[0mgenerateMiniBatchFromOneMusicForPart\u001b[0m\u001b[0;34m(\u001b[0m\u001b[0mdemo_piece\u001b[0m\u001b[0;34m,\u001b[0m \u001b[0mseq_length\u001b[0m\u001b[0;34m,\u001b[0m \u001b[0;36m1\u001b[0m\u001b[0;34m)\u001b[0m\u001b[0;34m\u001b[0m\u001b[0m\n\u001b[1;32m     35\u001b[0m \u001b[0mdemo_piece_minibatch_pt3\u001b[0m \u001b[0;34m=\u001b[0m \u001b[0mgenerateMiniBatchFromOneMusicForPart\u001b[0m\u001b[0;34m(\u001b[0m\u001b[0mdemo_piece\u001b[0m\u001b[0;34m,\u001b[0m \u001b[0mseq_length\u001b[0m\u001b[0;34m,\u001b[0m \u001b[0;36m2\u001b[0m\u001b[0;34m)\u001b[0m\u001b[0;34m\u001b[0m\u001b[0m\n",
      "\u001b[0;32m<ipython-input-84-7fbac65e1488>\u001b[0m in \u001b[0;36mgenerateMiniBatchFromOneMusicForPart\u001b[0;34m(music_data, seq_length, part)\u001b[0m\n\u001b[1;32m     53\u001b[0m \u001b[0;34m\u001b[0m\u001b[0m\n\u001b[1;32m     54\u001b[0m         left_index_target_tensor, right_index_target_tensor, center_index_target_tensor = getTargetIndexTensor(\n\u001b[0;32m---> 55\u001b[0;31m             left_target_tensor_range, right_target_tensor_range, center_target_range)\n\u001b[0m\u001b[1;32m     56\u001b[0m \u001b[0;34m\u001b[0m\u001b[0m\n\u001b[1;32m     57\u001b[0m         \u001b[0mminiBatches\u001b[0m\u001b[0;34m.\u001b[0m\u001b[0mappend\u001b[0m\u001b[0;34m(\u001b[0m\u001b[0;34m(\u001b[0m\u001b[0mleft_tensor\u001b[0m\u001b[0;34m,\u001b[0m \u001b[0mright_tensor\u001b[0m\u001b[0;34m,\u001b[0m \u001b[0mcenter_tensor\u001b[0m\u001b[0;34m,\u001b[0m \u001b[0mleft_index_target_tensor\u001b[0m\u001b[0;34m,\u001b[0m \u001b[0mright_index_target_tensor\u001b[0m\u001b[0;34m,\u001b[0m \u001b[0mcenter_index_target_tensor\u001b[0m\u001b[0;34m)\u001b[0m\u001b[0;34m)\u001b[0m\u001b[0;34m\u001b[0m\u001b[0m\n",
      "\u001b[0;32m<ipython-input-83-908f481c6274>\u001b[0m in \u001b[0;36mgetTargetIndexTensor\u001b[0;34m(left, right, c_target_tensor)\u001b[0m\n\u001b[1;32m      8\u001b[0m     \u001b[0mcenter_target_index_tensor\u001b[0m \u001b[0;34m=\u001b[0m \u001b[0;34m(\u001b[0m\u001b[0mcenter_target_tensor\u001b[0m\u001b[0;34m.\u001b[0m\u001b[0mflatten\u001b[0m\u001b[0;34m(\u001b[0m\u001b[0;34m)\u001b[0m\u001b[0;34m==\u001b[0m\u001b[0;36m1\u001b[0m\u001b[0;34m)\u001b[0m\u001b[0;34m.\u001b[0m\u001b[0mnonzero\u001b[0m\u001b[0;34m(\u001b[0m\u001b[0;34m)\u001b[0m\u001b[0;34m\u001b[0m\u001b[0m\n\u001b[1;32m      9\u001b[0m \u001b[0;34m\u001b[0m\u001b[0m\n\u001b[0;32m---> 10\u001b[0;31m     \u001b[0mleft_target\u001b[0m \u001b[0;34m=\u001b[0m \u001b[0mfindNoneZeroIndex\u001b[0m\u001b[0;34m(\u001b[0m\u001b[0mleft\u001b[0m\u001b[0;34m)\u001b[0m\u001b[0;34m\u001b[0m\u001b[0m\n\u001b[0m\u001b[1;32m     11\u001b[0m     \u001b[0mright_target\u001b[0m \u001b[0;34m=\u001b[0m \u001b[0mfindNoneZeroIndex\u001b[0m\u001b[0;34m(\u001b[0m\u001b[0mright\u001b[0m\u001b[0;34m)\u001b[0m\u001b[0;34m\u001b[0m\u001b[0m\n\u001b[1;32m     12\u001b[0m     \u001b[0mright_index_target\u001b[0m \u001b[0;34m=\u001b[0m \u001b[0mnp\u001b[0m\u001b[0;34m.\u001b[0m\u001b[0mflip\u001b[0m\u001b[0;34m(\u001b[0m\u001b[0mright_target\u001b[0m\u001b[0;34m,\u001b[0m \u001b[0maxis\u001b[0m\u001b[0;34m=\u001b[0m\u001b[0;36m1\u001b[0m\u001b[0;34m)\u001b[0m\u001b[0;34m\u001b[0m\u001b[0m\n",
      "\u001b[0;32m<ipython-input-82-26d88fcf46b5>\u001b[0m in \u001b[0;36mfindNoneZeroIndex\u001b[0;34m(m)\u001b[0m\n\u001b[1;32m     14\u001b[0m         \u001b[0mindex\u001b[0m \u001b[0;34m=\u001b[0m \u001b[0mnp\u001b[0m\u001b[0;34m.\u001b[0m\u001b[0mnonzero\u001b[0m\u001b[0;34m(\u001b[0m\u001b[0mm_row_clipped\u001b[0m\u001b[0;34m)\u001b[0m\u001b[0;34m[\u001b[0m\u001b[0;36m0\u001b[0m\u001b[0;34m]\u001b[0m\u001b[0;34m\u001b[0m\u001b[0m\n\u001b[1;32m     15\u001b[0m         \u001b[0mprint\u001b[0m\u001b[0;34m(\u001b[0m\u001b[0;34m'idx: {x}'\u001b[0m\u001b[0;34m.\u001b[0m\u001b[0mformat\u001b[0m\u001b[0;34m(\u001b[0m\u001b[0mx\u001b[0m\u001b[0;34m=\u001b[0m\u001b[0mindex\u001b[0m\u001b[0;34m)\u001b[0m\u001b[0;34m)\u001b[0m\u001b[0;34m\u001b[0m\u001b[0m\n\u001b[0;32m---> 16\u001b[0;31m         \u001b[0mn\u001b[0m\u001b[0;34m[\u001b[0m\u001b[0;34m:\u001b[0m\u001b[0;34m,\u001b[0m \u001b[0mi\u001b[0m\u001b[0;34m]\u001b[0m \u001b[0;34m=\u001b[0m \u001b[0mindex\u001b[0m\u001b[0;34m\u001b[0m\u001b[0m\n\u001b[0m\u001b[1;32m     17\u001b[0m     \u001b[0;32mreturn\u001b[0m \u001b[0mn\u001b[0m\u001b[0;34m\u001b[0m\u001b[0m\n",
      "\u001b[0;31mValueError\u001b[0m: could not broadcast input array from shape (2) into shape (1)"
     ]
    }
   ],
   "source": [
    "demo_piece = dataset.__getitem__(3) #numpy array\n",
    "print('demo_piece shape: {x}'.format(x=demo_piece.shape))\n",
    "parts, ticks, data_dim = demo_piece.shape\n",
    "\n",
    "lstm_input_size = data_dim * 3\n",
    "lstm_hidden_size = 200\n",
    "center_input_size = data_dim * 3\n",
    "center_output_size = 100\n",
    "output_size = data_dim\n",
    "\n",
    "n_iters = 2000\n",
    "print_every = 100\n",
    "plot_every = 500\n",
    "all_losses = []\n",
    "total_loss = 0 # Reset every plot_every iters\n",
    "learning_rate = 0.005\n",
    "\n",
    "\n",
    "left_model = Left_Model(lstm_input_size, lstm_hidden_size, output_size)\n",
    "right_model = Right_Model(lstm_input_size, lstm_hidden_size, output_size)\n",
    "center_model = Center_Model(center_input_size, center_output_size)\n",
    "result_model = Result_Model(center_output_size+output_size*2, output_size)\n",
    "\n",
    "\n",
    "left_opt = optim.SGD(left_model.parameters(), lr=learning_rate)\n",
    "right_opt = optim.SGD(right_model.parameters(), lr=learning_rate)\n",
    "center_opt = optim.SGD(center_model.parameters(), lr=learning_rate)\n",
    "result_opt = optim.SGD(result_model.parameters(), lr=learning_rate)\n",
    "\n",
    "\n",
    "seq_length = 8\n",
    "\n",
    "demo_piece_minibatch_pt1 = generateMiniBatchFromOneMusicForPart(demo_piece, seq_length, 0)\n",
    "demo_piece_minibatch_pt2 = generateMiniBatchFromOneMusicForPart(demo_piece, seq_length, 1)\n",
    "demo_piece_minibatch_pt3 = generateMiniBatchFromOneMusicForPart(demo_piece, seq_length, 2)\n",
    "demo_piece_minibatch_pt4 = generateMiniBatchFromOneMusicForPart(demo_piece, seq_length, 3)\n",
    "miniBatch_length = len(demo_piece_minibatch_pt1)\n",
    "print(\"minibatch list length: {x}\".format(x=miniBatch_length))\n",
    "\n",
    "#Training for Part 1\n",
    "start = time.time()\n",
    "ite = 0\n",
    "'''\n",
    "IMPORTANT: Model, Optimizer must match!\n",
    "'''\n",
    "\n",
    "'''\n",
    "NOTE: This is only trainning for part 1, with data from one music piece.\n",
    "\n",
    "TODO:\n",
    "(1) generate minibatch from other pieces\n",
    "(2) train for other parts\n",
    "(3) write sampling function\n",
    "\n",
    "'''\n",
    "for n in range(n_iters):\n",
    "    if ite/miniBatch_length >= 1:\n",
    "        ite = 0\n",
    "            \n",
    "    left_tensor, right_tensor, center_tensor, left_target_tensor, right_targte_tensor, center_target_tensor = demo_piece_minibatch_pt1[ite]\n",
    "\n",
    "#     print(\"train left_tensor size: {x}\".format(x=left_tensor.size()))\n",
    "    output, left_loss, right_loss, center_loss, result_loss = train(left_model, right_model, center_model, result_model, \n",
    "          left_tensor, right_tensor, center_tensor, \n",
    "          left_target_tensor, right_targte_tensor, center_target_tensor, \n",
    "          left_opt, right_opt, center_opt, result_opt)\n",
    "    total_loss += result_loss\n",
    "    \n",
    "    if (n+1) % print_every == 0:\n",
    "            print('%s (%d %d%%) loss: %.4f' % (timeSince(start), n, n / n_iters * 100, loss))\n",
    "            print(\"output: {x}\".format(x=output))\n",
    "            \n",
    "    if (n+1) % plot_every == 0:\n",
    "        all_losses.append(total_loss / plot_every)\n",
    "        total_loss = 0\n",
    "    \n",
    "    ite += 1\n",
    "    n += 1\n"
   ]
  },
  {
   "cell_type": "code",
   "execution_count": null,
   "metadata": {},
   "outputs": [],
   "source": []
  },
  {
   "cell_type": "code",
   "execution_count": null,
   "metadata": {},
   "outputs": [],
   "source": []
  },
  {
   "cell_type": "code",
   "execution_count": null,
   "metadata": {},
   "outputs": [],
   "source": []
  }
 ],
 "metadata": {
  "kernelspec": {
   "display_name": "Python 3",
   "language": "python",
   "name": "python3"
  },
  "language_info": {
   "codemirror_mode": {
    "name": "ipython",
    "version": 3
   },
   "file_extension": ".py",
   "mimetype": "text/x-python",
   "name": "python",
   "nbconvert_exporter": "python",
   "pygments_lexer": "ipython3",
   "version": "3.6.6"
  }
 },
 "nbformat": 4,
 "nbformat_minor": 2
}
